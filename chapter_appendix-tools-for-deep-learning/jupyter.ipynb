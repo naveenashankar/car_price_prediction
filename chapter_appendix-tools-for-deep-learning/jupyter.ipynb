{
  "cells": [
    {
      "cell_type": "code",
      "source": [
        "import pandas as pd\n",
        "import numpy as np\n",
        "from sklearn.model_selection import train_test_split\n",
        "from sklearn.preprocessing import StandardScaler,LabelEncoder\n",
        "from tensorflow.keras.models import Sequential\n",
        "from tensorflow.keras.layers import Dense\n",
        "\n",
        "#load dataset\n",
        "data=pd.read_csv('/content/WA_Fn-UseC_-HR-Employee-Attrition.csv')\n",
        "#data preprocessing\n",
        "isnull=data.isnull().sum()\n",
        "print(isnull)\n",
        "\n",
        "# Identify categorical columns to encode\n",
        "categorical_cols = data.select_dtypes(include='object').columns.tolist()\n",
        "# Exclude the target variable 'Attrition' if it's in the list\n",
        "if 'Attrition' in categorical_cols:\n",
        "    categorical_cols.remove('Attrition')\n",
        "\n",
        "#handle categorical variables\n",
        "label_encoders={}\n",
        "for col in categorical_cols:\n",
        "  le=LabelEncoder()\n",
        "  data[col]=le.fit_transform(data[col])\n",
        "  label_encoders[col]=le\n",
        "\n",
        "#seperate features and target\n",
        "x=data.drop('Attrition',axis=1)\n",
        "y=data['Attrition'].apply(lambda x:1 if x=='yes'else 0)\n",
        "\n",
        "#scaling\n",
        "scaler=StandardScaler()\n",
        "x_scaled=scaler.fit_transform(x)\n",
        "\n",
        "#split data\n",
        "x_train,x_test,y_train,y_test=train_test_split(x_scaled,y,test_size=0.2,random_state=42)\n",
        "#build and train ann\n",
        "model=Sequential([\n",
        "    Dense(16,activation='relu',input_shape=(x_train.shape[1],))\n",
        "    Dense(8,activation='relu'),\n",
        "    Dense(1,activation='sigmoid')\n",
        "])\n",
        "model.compile(optimizer='adam',loss='binary_crossentropy',metrics=['accuracy'])\n",
        "\n"
      ],
      "metadata": {
        "colab": {
          "base_uri": "https://localhost:8080/"
        },
        "id": "AV83uWtDReJz",
        "outputId": "527dbd0d-a0b3-4574-b855-5a655faf21ee"
      },
      "id": "AV83uWtDReJz",
      "execution_count": 6,
      "outputs": [
        {
          "output_type": "stream",
          "name": "stdout",
          "text": [
            "Age                         0\n",
            "Attrition                   0\n",
            "BusinessTravel              0\n",
            "DailyRate                   0\n",
            "Department                  0\n",
            "DistanceFromHome            0\n",
            "Education                   0\n",
            "EducationField              0\n",
            "EmployeeCount               0\n",
            "EmployeeNumber              0\n",
            "EnvironmentSatisfaction     0\n",
            "Gender                      0\n",
            "HourlyRate                  0\n",
            "JobInvolvement              0\n",
            "JobLevel                    0\n",
            "JobRole                     0\n",
            "JobSatisfaction             0\n",
            "MaritalStatus               0\n",
            "MonthlyIncome               0\n",
            "MonthlyRate                 0\n",
            "NumCompaniesWorked          0\n",
            "Over18                      0\n",
            "OverTime                    0\n",
            "PercentSalaryHike           0\n",
            "PerformanceRating           0\n",
            "RelationshipSatisfaction    0\n",
            "StandardHours               0\n",
            "StockOptionLevel            0\n",
            "TotalWorkingYears           0\n",
            "TrainingTimesLastYear       0\n",
            "WorkLifeBalance             0\n",
            "YearsAtCompany              0\n",
            "YearsInCurrentRole          0\n",
            "YearsSinceLastPromotion     0\n",
            "YearsWithCurrManager        0\n",
            "dtype: int64\n"
          ]
        }
      ]
    }
  ],
  "metadata": {
    "kernelspec": {
      "display_name": "Python 3",
      "name": "python3"
    },
    "language_info": {
      "name": "python"
    },
    "required_libs": [],
    "colab": {
      "provenance": []
    }
  },
  "nbformat": 4,
  "nbformat_minor": 5
}